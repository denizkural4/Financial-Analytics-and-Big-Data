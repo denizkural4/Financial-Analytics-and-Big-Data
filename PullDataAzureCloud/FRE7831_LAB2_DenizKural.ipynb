{
 "cells": [
  {
   "attachments": {},
   "cell_type": "markdown",
   "metadata": {},
   "source": [
    "### FRE 7831 - Lab #2 \n",
    "#### Deniz Kural - dk3703\n",
    "\n",
    "Assignment : Pull Data from Azure Cloud to your Python Program.\n",
    "\n",
    "Steps: \n",
    "<p>i) Connect your Python program to your Hortonworks database in Azure to pull IBM yearly dividend from yearly_aggregates table for the year assigned to you.</p>\n",
    " \n",
    "ii) Assigned stock and year: IBM 2001"
   ]
  },
  {
   "cell_type": "code",
   "execution_count": 2,
   "metadata": {},
   "outputs": [
    {
     "name": "stdout",
     "output_type": "stream",
     "text": [
      "('IBM', '2001', 0.550000011920929)\n"
     ]
    }
   ],
   "source": [
    "import pyodbc\n",
    "\n",
    "conn = pyodbc.connect(\"DSN=Native Hortonworks Hive DSN; Host=13.92.169.191;  Port=10000;\",  autocommit=True)\n",
    "cursor = conn.cursor();\n",
    "\n",
    "cursor.execute(\"select symbol,year,total_dividends from yearly_aggregates where symbol='IBM' and year='2001'\")\n",
    "\n",
    "result = cursor.fetchall() \n",
    "for r in result:\n",
    "    print(r)\n",
    "    \n",
    "\"\"\"\n",
    "Result:\n",
    "\n",
    "('IBM', '2001', 0.550000011920929)\n",
    "\n",
    "\n",
    "\"\"\""
   ]
  }
 ],
 "metadata": {
  "kernelspec": {
   "display_name": "Python 3",
   "language": "python",
   "name": "python3"
  },
  "language_info": {
   "codemirror_mode": {
    "name": "ipython",
    "version": 3
   },
   "file_extension": ".py",
   "mimetype": "text/x-python",
   "name": "python",
   "nbconvert_exporter": "python",
   "pygments_lexer": "ipython3",
   "version": "3.8.5"
  }
 },
 "nbformat": 4,
 "nbformat_minor": 4
}
